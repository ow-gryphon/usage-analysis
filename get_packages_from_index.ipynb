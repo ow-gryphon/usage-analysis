{
 "cells": [
  {
   "cell_type": "code",
   "execution_count": 2,
   "id": "652f4b9c-a965-4a09-b02e-11bdbdf343a3",
   "metadata": {},
   "outputs": [],
   "source": [
    "import requests\n",
    "from bs4 import BeautifulSoup"
   ]
  },
  {
   "cell_type": "code",
   "execution_count": 3,
   "id": "5f652296-4299-4118-9cc4-a137f8dfe808",
   "metadata": {},
   "outputs": [],
   "source": [
    "response = requests.get(\"https://ow-gryphon.github.io/grypi/\")\n",
    "assert response.status_code == 200\n",
    "\n",
    "soup = BeautifulSoup(response.text)"
   ]
  },
  {
   "cell_type": "code",
   "execution_count": 22,
   "id": "d8112cf7-8eb4-451b-bb56-11b39121aa4f",
   "metadata": {},
   "outputs": [],
   "source": [
    "cards = soup.findAll(\"a\", **{\"class\": \"card\"})\n",
    "\n",
    "repositories = list(map(lambda a: a['href'][:-1], cards))"
   ]
  },
  {
   "cell_type": "code",
   "execution_count": 23,
   "id": "db9250e6-c4c5-47e3-9dde-4fc7c5b2411b",
   "metadata": {},
   "outputs": [
    {
     "data": {
      "text/plain": [
       "['gryphon-analytics-basic',\n",
       " 'gryphon-nct-data-exploration',\n",
       " 'gryphon-nct-regression-classification',\n",
       " 'gryphon-routing-here-maps',\n",
       " 'gryphon-data-clustering',\n",
       " 'gryphon-dimensionality-reduction',\n",
       " 'gryphon-data-exploration',\n",
       " 'gryphon-model-plotting-regression',\n",
       " 'gryphon-web-scraping',\n",
       " 'gryphon-nlp-basics',\n",
       " 'gryphon-nlp-sentiment-analysis',\n",
       " 'gryphon-regression-sklearn',\n",
       " 'gryphon-data-transformations',\n",
       " 'gryphon-data-science-basic',\n",
       " 'gryphon-basic-utilities']"
      ]
     },
     "execution_count": 23,
     "metadata": {},
     "output_type": "execute_result"
    }
   ],
   "source": [
    "repositories"
   ]
  },
  {
   "cell_type": "code",
   "execution_count": null,
   "id": "cfc8cacc-d950-44d7-88d9-9e5e1ee955e8",
   "metadata": {},
   "outputs": [],
   "source": []
  }
 ],
 "metadata": {
  "kernelspec": {
   "display_name": "Python 3",
   "language": "python",
   "name": "python3"
  },
  "language_info": {
   "codemirror_mode": {
    "name": "ipython",
    "version": 3
   },
   "file_extension": ".py",
   "mimetype": "text/x-python",
   "name": "python",
   "nbconvert_exporter": "python",
   "pygments_lexer": "ipython3",
   "version": "3.8.8"
  }
 },
 "nbformat": 4,
 "nbformat_minor": 5
}
